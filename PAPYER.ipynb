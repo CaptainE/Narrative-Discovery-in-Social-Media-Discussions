{
 "cells": [
  {
   "cell_type": "markdown",
   "metadata": {},
   "source": [
    "# **SNaCK + PAPYER**\n",
    "\n",
    "## Narrative Discovery in Social Media Discussions.\n",
    "\n",
    "This notebook is meant to illustrate the dataloading process and  showcase our trained final embedding\n",
    "\n",
    "Created by [Peter Ebert Christensen](https://github.com/captaine)."
   ]
  },
  {
   "cell_type": "markdown",
   "metadata": {},
   "source": [
    "### Loading the data"
   ]
  },
  {
   "cell_type": "code",
   "execution_count": null,
   "metadata": {},
   "outputs": [],
   "source": [
    "import torch\n",
    "import numpy as np\n",
    "import plotly.express as px\n",
    "import pandas as pd\n",
    "import pickle\n",
    "with open('sentence_list.pickle', 'rb') as handle:\n",
    "    rws = pickle.load(handle)\n",
    "with open(\"labels.obj\", \"rb\") as input_file:\n",
    "    labels = pickle.load(input_file)\n",
    "with open(\"triplets.obj\", \"rb\") as input_file:\n",
    "    triplets = pickle.load(input_file)"
   ]
  },
  {
   "cell_type": "markdown",
   "metadata": {},
   "source": [
    "### Showcasing the trained model"
   ]
  },
  {
   "cell_type": "code",
   "execution_count": null,
   "metadata": {},
   "outputs": [],
   "source": [
    "name=\"snack_2\"\n",
    "Y = torch.load(name+ '.pt')\n",
    "embedding = Y\n",
    "embedding = embedding"
   ]
  },
  {
   "cell_type": "code",
   "execution_count": null,
   "metadata": {},
   "outputs": [],
   "source": [
    "circos_colors = [\n",
    "    'rgb(255,0,149)',\n",
    "    'rgb(255,0,125)',\n",
    "    'rgb(255,0,105)',\n",
    "    'rgb(255,0,83)',\n",
    "    'rgb(255,26,60)',\n",
    "    'rgb(255,55,34)',\n",
    "    'rgb(255,73,0)',\n",
    "    'rgb(253,90,0)',\n",
    "    'rgb(238,105,0)',\n",
    "    'rgb(224,116,0)',\n",
    "    'rgb(211,124,0)',\n",
    "    'rgb(200,131,0)',\n",
    "    'rgb(188,136,0)',\n",
    "    'rgb(176,142,0)',\n",
    "    'rgb(163,146,0)',\n",
    "    'rgb(149,151,0)',\n",
    "    'rgb(0,180,206)',\n",
    "    'rgb(0,180,239)',\n",
    "    'rgb(0,178,255)',\n",
    "    'rgb(0,173,255)',\n",
    "    'rgb(0,167,255)',\n",
    "    'rgb(0,160,255)',\n",
    "    'rgb(0,147,255)',\n",
    "    'rgb(0,134,255)',\n",
    "    'rgb(80,164,0)',\n",
    "    'rgb(0,169,0)',\n",
    "    'rgb(0,172,0)',\n",
    "    'rgb(0,175,52)',\n",
    "    'rgb(0,177,86)',\n",
    "    'rgb(0,178,111)',\n",
    "    'rgb(0,179,142)',\n",
    "    'rgb(182,101,255)'\n",
    "]"
   ]
  },
  {
   "cell_type": "code",
   "execution_count": null,
   "metadata": {},
   "outputs": [],
   "source": [
    "embedding_list = np.concatenate(embedding).reshape(-1,2)\n",
    "df = pd.DataFrame(embedding_list, columns=[\"x\", \"y\"])\n",
    "df['number'] = list(np.arange(0,600))\n",
    "df['sentences'] = rws\n",
    "df['labels'] =np.array(labels,dtype=np.int)\n",
    "df = df.sort_values(by=['labels'])\n",
    "df['labels'] =np.array(df['labels'],dtype=np.str)\n",
    "\n",
    "fig = px.scatter(df, x=\"x\", y=\"y\", color=\"labels\", color_discrete_sequence=circos_colors ,hover_data={'sentences': True, \"labels\": True, \"number\":True, \"x\":False, \"y\":False})\n",
    "fig.update_layout({\"showlegend\":True})\n",
    "fig.update_layout({ax:{\"visible\":False, \"matches\":None} for ax in fig.to_dict()[\"layout\"] if \"axis\" in ax})\n",
    "fig.update_layout( # customize font and legend orientation & position\n",
    "        legend=dict(\n",
    "        title=None,\n",
    "        orientation=\"h\",\n",
    "        x=1,\n",
    "        xanchor=\"right\",\n",
    "        y=1,\n",
    "        yanchor=\"bottom\",\n",
    "        traceorder=\"reversed\",\n",
    "        title_font_family=\"Times New Roman\",\n",
    "        font=dict(\n",
    "            family=\"Rockwell\",\n",
    "            size=12,\n",
    "            color=\"black\"\n",
    "        ),\n",
    "        bgcolor=\"LightSteelBlue\",\n",
    "        bordercolor=\"Black\",\n",
    "        borderwidth=2\n",
    "    )\n",
    ")\n",
    "fig.show()\n",
    "#fig.write_html(\"snack_new_colors.html\")"
   ]
  }
 ],
 "metadata": {
  "kernelspec": {
   "display_name": "Python 3.9.5 ('NLP')",
   "language": "python",
   "name": "python3"
  },
  "language_info": {
   "codemirror_mode": {
    "name": "ipython",
    "version": 3
   },
   "file_extension": ".py",
   "mimetype": "text/x-python",
   "name": "python",
   "nbconvert_exporter": "python",
   "pygments_lexer": "ipython3",
   "version": "3.9.5"
  },
  "orig_nbformat": 4,
  "vscode": {
   "interpreter": {
    "hash": "1aaa722855380b7326a3233c7f4ef55ced1c4f5a1182c3b39e906b31ccd946b6"
   }
  }
 },
 "nbformat": 4,
 "nbformat_minor": 2
}
